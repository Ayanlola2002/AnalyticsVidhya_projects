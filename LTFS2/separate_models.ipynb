{
 "cells": [
  {
   "cell_type": "code",
   "execution_count": 1,
   "metadata": {},
   "outputs": [],
   "source": [
    "import pandas as pd\n",
    "import numpy as np\n",
    "from sklearn.model_selection import train_test_split\n",
    "import matplotlib.pyplot as plt\n",
    "import seaborn as sns\n",
    "from sklearn.model_selection import train_test_split\n",
    "import gc\n",
    "import lightgbm as lgb\n",
    "from sklearn.model_selection import KFold, StratifiedKFold\n",
    "import time\n",
    "from datetime import timedelta, date\n",
    "from fastai.tabular import *\n",
    "\n",
    "%matplotlib inline"
   ]
  },
  {
   "cell_type": "code",
   "execution_count": 2,
   "metadata": {},
   "outputs": [],
   "source": [
    "train_df = pd.read_csv('train.csv')\n",
    "test_df =  pd.read_csv('test.csv')"
   ]
  },
  {
   "cell_type": "code",
   "execution_count": 3,
   "metadata": {},
   "outputs": [
    {
     "data": {
      "text/plain": [
       "Index(['application_date', 'segment', 'branch_id', 'state', 'zone',\n",
       "       'case_count'],\n",
       "      dtype='object')"
      ]
     },
     "execution_count": 3,
     "metadata": {},
     "output_type": "execute_result"
    }
   ],
   "source": [
    "train_df.columns"
   ]
  },
  {
   "cell_type": "code",
   "execution_count": 4,
   "metadata": {},
   "outputs": [
    {
     "name": "stdout",
     "output_type": "stream",
     "text": [
      "(80402, 6)\n",
      "(180, 3)\n"
     ]
    }
   ],
   "source": [
    "print(train_df.shape)\n",
    "print(test_df.shape)"
   ]
  },
  {
   "cell_type": "code",
   "execution_count": 5,
   "metadata": {},
   "outputs": [
    {
     "data": {
      "text/html": [
       "<div>\n",
       "<style scoped>\n",
       "    .dataframe tbody tr th:only-of-type {\n",
       "        vertical-align: middle;\n",
       "    }\n",
       "\n",
       "    .dataframe tbody tr th {\n",
       "        vertical-align: top;\n",
       "    }\n",
       "\n",
       "    .dataframe thead th {\n",
       "        text-align: right;\n",
       "    }\n",
       "</style>\n",
       "<table border=\"1\" class=\"dataframe\">\n",
       "  <thead>\n",
       "    <tr style=\"text-align: right;\">\n",
       "      <th></th>\n",
       "      <th>application_date</th>\n",
       "      <th>segment</th>\n",
       "      <th>branch_id</th>\n",
       "      <th>state</th>\n",
       "      <th>zone</th>\n",
       "      <th>case_count</th>\n",
       "    </tr>\n",
       "  </thead>\n",
       "  <tbody>\n",
       "    <tr>\n",
       "      <td>80397</td>\n",
       "      <td>2019-07-19</td>\n",
       "      <td>2</td>\n",
       "      <td>NaN</td>\n",
       "      <td>WEST BENGAL</td>\n",
       "      <td>NaN</td>\n",
       "      <td>1886.0</td>\n",
       "    </tr>\n",
       "    <tr>\n",
       "      <td>80398</td>\n",
       "      <td>2019-07-20</td>\n",
       "      <td>2</td>\n",
       "      <td>NaN</td>\n",
       "      <td>WEST BENGAL</td>\n",
       "      <td>NaN</td>\n",
       "      <td>1480.0</td>\n",
       "    </tr>\n",
       "    <tr>\n",
       "      <td>80399</td>\n",
       "      <td>2019-07-21</td>\n",
       "      <td>2</td>\n",
       "      <td>NaN</td>\n",
       "      <td>WEST BENGAL</td>\n",
       "      <td>NaN</td>\n",
       "      <td>1028.0</td>\n",
       "    </tr>\n",
       "    <tr>\n",
       "      <td>80400</td>\n",
       "      <td>2019-07-22</td>\n",
       "      <td>2</td>\n",
       "      <td>NaN</td>\n",
       "      <td>WEST BENGAL</td>\n",
       "      <td>NaN</td>\n",
       "      <td>1946.0</td>\n",
       "    </tr>\n",
       "    <tr>\n",
       "      <td>80401</td>\n",
       "      <td>2019-07-23</td>\n",
       "      <td>2</td>\n",
       "      <td>NaN</td>\n",
       "      <td>WEST BENGAL</td>\n",
       "      <td>NaN</td>\n",
       "      <td>1984.0</td>\n",
       "    </tr>\n",
       "  </tbody>\n",
       "</table>\n",
       "</div>"
      ],
      "text/plain": [
       "      application_date  segment  branch_id        state zone  case_count\n",
       "80397       2019-07-19        2        NaN  WEST BENGAL  NaN      1886.0\n",
       "80398       2019-07-20        2        NaN  WEST BENGAL  NaN      1480.0\n",
       "80399       2019-07-21        2        NaN  WEST BENGAL  NaN      1028.0\n",
       "80400       2019-07-22        2        NaN  WEST BENGAL  NaN      1946.0\n",
       "80401       2019-07-23        2        NaN  WEST BENGAL  NaN      1984.0"
      ]
     },
     "execution_count": 5,
     "metadata": {},
     "output_type": "execute_result"
    }
   ],
   "source": [
    "train_df.tail()"
   ]
  },
  {
   "cell_type": "code",
   "execution_count": 6,
   "metadata": {},
   "outputs": [],
   "source": [
    "train_s1 = train_df[train_df['segment']==1]\n",
    "train_s2 = train_df[train_df['segment']==2]"
   ]
  },
  {
   "cell_type": "code",
   "execution_count": 7,
   "metadata": {},
   "outputs": [],
   "source": [
    "train_s1 = pd.DataFrame(train_s1.groupby(['application_date'])['case_count'].sum())\n",
    "train_s1.reset_index(inplace=True)\n",
    "train_s2 = pd.DataFrame(train_s2.groupby(['application_date'])['case_count'].sum())\n",
    "train_s2.reset_index(inplace=True)"
   ]
  },
  {
   "cell_type": "code",
   "execution_count": 8,
   "metadata": {},
   "outputs": [
    {
     "data": {
      "text/html": [
       "<div>\n",
       "<style scoped>\n",
       "    .dataframe tbody tr th:only-of-type {\n",
       "        vertical-align: middle;\n",
       "    }\n",
       "\n",
       "    .dataframe tbody tr th {\n",
       "        vertical-align: top;\n",
       "    }\n",
       "\n",
       "    .dataframe thead th {\n",
       "        text-align: right;\n",
       "    }\n",
       "</style>\n",
       "<table border=\"1\" class=\"dataframe\">\n",
       "  <thead>\n",
       "    <tr style=\"text-align: right;\">\n",
       "      <th></th>\n",
       "      <th>application_date</th>\n",
       "      <th>case_count</th>\n",
       "    </tr>\n",
       "  </thead>\n",
       "  <tbody>\n",
       "    <tr>\n",
       "      <td>0</td>\n",
       "      <td>2017-04-01</td>\n",
       "      <td>299.0</td>\n",
       "    </tr>\n",
       "    <tr>\n",
       "      <td>1</td>\n",
       "      <td>2017-04-03</td>\n",
       "      <td>42.0</td>\n",
       "    </tr>\n",
       "    <tr>\n",
       "      <td>2</td>\n",
       "      <td>2017-04-04</td>\n",
       "      <td>23.0</td>\n",
       "    </tr>\n",
       "    <tr>\n",
       "      <td>3</td>\n",
       "      <td>2017-04-05</td>\n",
       "      <td>1530.0</td>\n",
       "    </tr>\n",
       "    <tr>\n",
       "      <td>4</td>\n",
       "      <td>2017-04-07</td>\n",
       "      <td>1341.0</td>\n",
       "    </tr>\n",
       "  </tbody>\n",
       "</table>\n",
       "</div>"
      ],
      "text/plain": [
       "  application_date  case_count\n",
       "0       2017-04-01       299.0\n",
       "1       2017-04-03        42.0\n",
       "2       2017-04-04        23.0\n",
       "3       2017-04-05      1530.0\n",
       "4       2017-04-07      1341.0"
      ]
     },
     "execution_count": 8,
     "metadata": {},
     "output_type": "execute_result"
    }
   ],
   "source": [
    "train_s1.head()"
   ]
  },
  {
   "cell_type": "code",
   "execution_count": 9,
   "metadata": {},
   "outputs": [],
   "source": [
    "test_df1 = test_df[test_df['segment']==1].drop(['id','segment'],axis=1)\n",
    "test_df2 = test_df[test_df['segment']==2].drop(['id','segment'],axis=1)"
   ]
  },
  {
   "cell_type": "code",
   "execution_count": 10,
   "metadata": {},
   "outputs": [
    {
     "data": {
      "text/html": [
       "<div>\n",
       "<style scoped>\n",
       "    .dataframe tbody tr th:only-of-type {\n",
       "        vertical-align: middle;\n",
       "    }\n",
       "\n",
       "    .dataframe tbody tr th {\n",
       "        vertical-align: top;\n",
       "    }\n",
       "\n",
       "    .dataframe thead th {\n",
       "        text-align: right;\n",
       "    }\n",
       "</style>\n",
       "<table border=\"1\" class=\"dataframe\">\n",
       "  <thead>\n",
       "    <tr style=\"text-align: right;\">\n",
       "      <th></th>\n",
       "      <th>application_date</th>\n",
       "    </tr>\n",
       "  </thead>\n",
       "  <tbody>\n",
       "    <tr>\n",
       "      <td>0</td>\n",
       "      <td>2019-07-06</td>\n",
       "    </tr>\n",
       "    <tr>\n",
       "      <td>1</td>\n",
       "      <td>2019-07-07</td>\n",
       "    </tr>\n",
       "    <tr>\n",
       "      <td>2</td>\n",
       "      <td>2019-07-08</td>\n",
       "    </tr>\n",
       "    <tr>\n",
       "      <td>3</td>\n",
       "      <td>2019-07-09</td>\n",
       "    </tr>\n",
       "    <tr>\n",
       "      <td>4</td>\n",
       "      <td>2019-07-10</td>\n",
       "    </tr>\n",
       "  </tbody>\n",
       "</table>\n",
       "</div>"
      ],
      "text/plain": [
       "  application_date\n",
       "0       2019-07-06\n",
       "1       2019-07-07\n",
       "2       2019-07-08\n",
       "3       2019-07-09\n",
       "4       2019-07-10"
      ]
     },
     "execution_count": 10,
     "metadata": {},
     "output_type": "execute_result"
    }
   ],
   "source": [
    "test_df1.head()"
   ]
  },
  {
   "cell_type": "code",
   "execution_count": 11,
   "metadata": {},
   "outputs": [
    {
     "data": {
      "text/html": [
       "<div>\n",
       "<style scoped>\n",
       "    .dataframe tbody tr th:only-of-type {\n",
       "        vertical-align: middle;\n",
       "    }\n",
       "\n",
       "    .dataframe tbody tr th {\n",
       "        vertical-align: top;\n",
       "    }\n",
       "\n",
       "    .dataframe thead th {\n",
       "        text-align: right;\n",
       "    }\n",
       "</style>\n",
       "<table border=\"1\" class=\"dataframe\">\n",
       "  <thead>\n",
       "    <tr style=\"text-align: right;\">\n",
       "      <th></th>\n",
       "      <th>application_Year</th>\n",
       "      <th>application_Month</th>\n",
       "      <th>application_Week</th>\n",
       "      <th>application_Day</th>\n",
       "      <th>application_Dayofweek</th>\n",
       "      <th>application_Dayofyear</th>\n",
       "      <th>application_Is_month_end</th>\n",
       "      <th>application_Is_month_start</th>\n",
       "      <th>application_Is_quarter_end</th>\n",
       "      <th>application_Is_quarter_start</th>\n",
       "      <th>...</th>\n",
       "      <th>application_Is_year_start</th>\n",
       "      <th>application_Elapsed</th>\n",
       "      <th>application_weekday_cos</th>\n",
       "      <th>application_weekday_sin</th>\n",
       "      <th>application_day_month_cos</th>\n",
       "      <th>application_day_month_sin</th>\n",
       "      <th>application_month_year_cos</th>\n",
       "      <th>application_month_year_sin</th>\n",
       "      <th>application_day_year_cos</th>\n",
       "      <th>application_day_year_sin</th>\n",
       "    </tr>\n",
       "  </thead>\n",
       "  <tbody>\n",
       "    <tr>\n",
       "      <td>87</td>\n",
       "      <td>2019</td>\n",
       "      <td>7</td>\n",
       "      <td>30</td>\n",
       "      <td>24</td>\n",
       "      <td>2</td>\n",
       "      <td>205</td>\n",
       "      <td>False</td>\n",
       "      <td>False</td>\n",
       "      <td>False</td>\n",
       "      <td>False</td>\n",
       "      <td>...</td>\n",
       "      <td>False</td>\n",
       "      <td>1563926400</td>\n",
       "      <td>-0.222521</td>\n",
       "      <td>0.974928</td>\n",
       "      <td>-0.050649</td>\n",
       "      <td>-0.998717</td>\n",
       "      <td>-1.000000e+00</td>\n",
       "      <td>1.224647e-16</td>\n",
       "      <td>-0.932289</td>\n",
       "      <td>-0.361714</td>\n",
       "    </tr>\n",
       "    <tr>\n",
       "      <td>88</td>\n",
       "      <td>2019</td>\n",
       "      <td>7</td>\n",
       "      <td>30</td>\n",
       "      <td>25</td>\n",
       "      <td>3</td>\n",
       "      <td>206</td>\n",
       "      <td>False</td>\n",
       "      <td>False</td>\n",
       "      <td>False</td>\n",
       "      <td>False</td>\n",
       "      <td>...</td>\n",
       "      <td>False</td>\n",
       "      <td>1564012800</td>\n",
       "      <td>-0.900969</td>\n",
       "      <td>0.433884</td>\n",
       "      <td>0.151428</td>\n",
       "      <td>-0.988468</td>\n",
       "      <td>-1.000000e+00</td>\n",
       "      <td>1.224647e-16</td>\n",
       "      <td>-0.925925</td>\n",
       "      <td>-0.377708</td>\n",
       "    </tr>\n",
       "    <tr>\n",
       "      <td>89</td>\n",
       "      <td>2019</td>\n",
       "      <td>7</td>\n",
       "      <td>30</td>\n",
       "      <td>26</td>\n",
       "      <td>4</td>\n",
       "      <td>207</td>\n",
       "      <td>False</td>\n",
       "      <td>False</td>\n",
       "      <td>False</td>\n",
       "      <td>False</td>\n",
       "      <td>...</td>\n",
       "      <td>False</td>\n",
       "      <td>1564099200</td>\n",
       "      <td>-0.900969</td>\n",
       "      <td>-0.433884</td>\n",
       "      <td>0.347305</td>\n",
       "      <td>-0.937752</td>\n",
       "      <td>-1.000000e+00</td>\n",
       "      <td>1.224647e-16</td>\n",
       "      <td>-0.919286</td>\n",
       "      <td>-0.393590</td>\n",
       "    </tr>\n",
       "    <tr>\n",
       "      <td>90</td>\n",
       "      <td>2019</td>\n",
       "      <td>7</td>\n",
       "      <td>30</td>\n",
       "      <td>27</td>\n",
       "      <td>5</td>\n",
       "      <td>208</td>\n",
       "      <td>False</td>\n",
       "      <td>False</td>\n",
       "      <td>False</td>\n",
       "      <td>False</td>\n",
       "      <td>...</td>\n",
       "      <td>False</td>\n",
       "      <td>1564185600</td>\n",
       "      <td>-0.222521</td>\n",
       "      <td>-0.974928</td>\n",
       "      <td>0.528964</td>\n",
       "      <td>-0.848644</td>\n",
       "      <td>-1.000000e+00</td>\n",
       "      <td>1.224647e-16</td>\n",
       "      <td>-0.912375</td>\n",
       "      <td>-0.409356</td>\n",
       "    </tr>\n",
       "    <tr>\n",
       "      <td>91</td>\n",
       "      <td>2019</td>\n",
       "      <td>7</td>\n",
       "      <td>30</td>\n",
       "      <td>28</td>\n",
       "      <td>6</td>\n",
       "      <td>209</td>\n",
       "      <td>False</td>\n",
       "      <td>False</td>\n",
       "      <td>False</td>\n",
       "      <td>False</td>\n",
       "      <td>...</td>\n",
       "      <td>False</td>\n",
       "      <td>1564272000</td>\n",
       "      <td>0.623490</td>\n",
       "      <td>-0.781831</td>\n",
       "      <td>0.688967</td>\n",
       "      <td>-0.724793</td>\n",
       "      <td>-1.000000e+00</td>\n",
       "      <td>1.224647e-16</td>\n",
       "      <td>-0.905193</td>\n",
       "      <td>-0.425000</td>\n",
       "    </tr>\n",
       "    <tr>\n",
       "      <td>...</td>\n",
       "      <td>...</td>\n",
       "      <td>...</td>\n",
       "      <td>...</td>\n",
       "      <td>...</td>\n",
       "      <td>...</td>\n",
       "      <td>...</td>\n",
       "      <td>...</td>\n",
       "      <td>...</td>\n",
       "      <td>...</td>\n",
       "      <td>...</td>\n",
       "      <td>...</td>\n",
       "      <td>...</td>\n",
       "      <td>...</td>\n",
       "      <td>...</td>\n",
       "      <td>...</td>\n",
       "      <td>...</td>\n",
       "      <td>...</td>\n",
       "      <td>...</td>\n",
       "      <td>...</td>\n",
       "      <td>...</td>\n",
       "      <td>...</td>\n",
       "    </tr>\n",
       "    <tr>\n",
       "      <td>175</td>\n",
       "      <td>2019</td>\n",
       "      <td>10</td>\n",
       "      <td>42</td>\n",
       "      <td>20</td>\n",
       "      <td>6</td>\n",
       "      <td>293</td>\n",
       "      <td>False</td>\n",
       "      <td>False</td>\n",
       "      <td>False</td>\n",
       "      <td>False</td>\n",
       "      <td>...</td>\n",
       "      <td>False</td>\n",
       "      <td>1571529600</td>\n",
       "      <td>0.623490</td>\n",
       "      <td>-0.781831</td>\n",
       "      <td>-0.758758</td>\n",
       "      <td>-0.651372</td>\n",
       "      <td>-1.836970e-16</td>\n",
       "      <td>-1.000000e+00</td>\n",
       "      <td>0.309017</td>\n",
       "      <td>-0.951057</td>\n",
       "    </tr>\n",
       "    <tr>\n",
       "      <td>176</td>\n",
       "      <td>2019</td>\n",
       "      <td>10</td>\n",
       "      <td>43</td>\n",
       "      <td>21</td>\n",
       "      <td>0</td>\n",
       "      <td>294</td>\n",
       "      <td>False</td>\n",
       "      <td>False</td>\n",
       "      <td>False</td>\n",
       "      <td>False</td>\n",
       "      <td>...</td>\n",
       "      <td>False</td>\n",
       "      <td>1571616000</td>\n",
       "      <td>1.000000</td>\n",
       "      <td>0.000000</td>\n",
       "      <td>-0.612106</td>\n",
       "      <td>-0.790776</td>\n",
       "      <td>-1.836970e-16</td>\n",
       "      <td>-1.000000e+00</td>\n",
       "      <td>0.325342</td>\n",
       "      <td>-0.945596</td>\n",
       "    </tr>\n",
       "    <tr>\n",
       "      <td>177</td>\n",
       "      <td>2019</td>\n",
       "      <td>10</td>\n",
       "      <td>43</td>\n",
       "      <td>22</td>\n",
       "      <td>1</td>\n",
       "      <td>295</td>\n",
       "      <td>False</td>\n",
       "      <td>False</td>\n",
       "      <td>False</td>\n",
       "      <td>False</td>\n",
       "      <td>...</td>\n",
       "      <td>False</td>\n",
       "      <td>1571702400</td>\n",
       "      <td>0.623490</td>\n",
       "      <td>0.781831</td>\n",
       "      <td>-0.440394</td>\n",
       "      <td>-0.897805</td>\n",
       "      <td>-1.836970e-16</td>\n",
       "      <td>-1.000000e+00</td>\n",
       "      <td>0.341571</td>\n",
       "      <td>-0.939856</td>\n",
       "    </tr>\n",
       "    <tr>\n",
       "      <td>178</td>\n",
       "      <td>2019</td>\n",
       "      <td>10</td>\n",
       "      <td>43</td>\n",
       "      <td>23</td>\n",
       "      <td>2</td>\n",
       "      <td>296</td>\n",
       "      <td>False</td>\n",
       "      <td>False</td>\n",
       "      <td>False</td>\n",
       "      <td>False</td>\n",
       "      <td>...</td>\n",
       "      <td>False</td>\n",
       "      <td>1571788800</td>\n",
       "      <td>-0.222521</td>\n",
       "      <td>0.974928</td>\n",
       "      <td>-0.250653</td>\n",
       "      <td>-0.968077</td>\n",
       "      <td>-1.836970e-16</td>\n",
       "      <td>-1.000000e+00</td>\n",
       "      <td>0.357698</td>\n",
       "      <td>-0.933837</td>\n",
       "    </tr>\n",
       "    <tr>\n",
       "      <td>179</td>\n",
       "      <td>2019</td>\n",
       "      <td>10</td>\n",
       "      <td>43</td>\n",
       "      <td>24</td>\n",
       "      <td>3</td>\n",
       "      <td>297</td>\n",
       "      <td>False</td>\n",
       "      <td>False</td>\n",
       "      <td>False</td>\n",
       "      <td>False</td>\n",
       "      <td>...</td>\n",
       "      <td>False</td>\n",
       "      <td>1571875200</td>\n",
       "      <td>-0.900969</td>\n",
       "      <td>0.433884</td>\n",
       "      <td>-0.050649</td>\n",
       "      <td>-0.998717</td>\n",
       "      <td>-1.836970e-16</td>\n",
       "      <td>-1.000000e+00</td>\n",
       "      <td>0.373720</td>\n",
       "      <td>-0.927542</td>\n",
       "    </tr>\n",
       "  </tbody>\n",
       "</table>\n",
       "<p>93 rows × 21 columns</p>\n",
       "</div>"
      ],
      "text/plain": [
       "     application_Year  application_Month  application_Week  application_Day  \\\n",
       "87               2019                  7                30               24   \n",
       "88               2019                  7                30               25   \n",
       "89               2019                  7                30               26   \n",
       "90               2019                  7                30               27   \n",
       "91               2019                  7                30               28   \n",
       "..                ...                ...               ...              ...   \n",
       "175              2019                 10                42               20   \n",
       "176              2019                 10                43               21   \n",
       "177              2019                 10                43               22   \n",
       "178              2019                 10                43               23   \n",
       "179              2019                 10                43               24   \n",
       "\n",
       "     application_Dayofweek  application_Dayofyear  application_Is_month_end  \\\n",
       "87                       2                    205                     False   \n",
       "88                       3                    206                     False   \n",
       "89                       4                    207                     False   \n",
       "90                       5                    208                     False   \n",
       "91                       6                    209                     False   \n",
       "..                     ...                    ...                       ...   \n",
       "175                      6                    293                     False   \n",
       "176                      0                    294                     False   \n",
       "177                      1                    295                     False   \n",
       "178                      2                    296                     False   \n",
       "179                      3                    297                     False   \n",
       "\n",
       "     application_Is_month_start  application_Is_quarter_end  \\\n",
       "87                        False                       False   \n",
       "88                        False                       False   \n",
       "89                        False                       False   \n",
       "90                        False                       False   \n",
       "91                        False                       False   \n",
       "..                          ...                         ...   \n",
       "175                       False                       False   \n",
       "176                       False                       False   \n",
       "177                       False                       False   \n",
       "178                       False                       False   \n",
       "179                       False                       False   \n",
       "\n",
       "     application_Is_quarter_start  ...  application_Is_year_start  \\\n",
       "87                          False  ...                      False   \n",
       "88                          False  ...                      False   \n",
       "89                          False  ...                      False   \n",
       "90                          False  ...                      False   \n",
       "91                          False  ...                      False   \n",
       "..                            ...  ...                        ...   \n",
       "175                         False  ...                      False   \n",
       "176                         False  ...                      False   \n",
       "177                         False  ...                      False   \n",
       "178                         False  ...                      False   \n",
       "179                         False  ...                      False   \n",
       "\n",
       "     application_Elapsed  application_weekday_cos  application_weekday_sin  \\\n",
       "87            1563926400                -0.222521                 0.974928   \n",
       "88            1564012800                -0.900969                 0.433884   \n",
       "89            1564099200                -0.900969                -0.433884   \n",
       "90            1564185600                -0.222521                -0.974928   \n",
       "91            1564272000                 0.623490                -0.781831   \n",
       "..                   ...                      ...                      ...   \n",
       "175           1571529600                 0.623490                -0.781831   \n",
       "176           1571616000                 1.000000                 0.000000   \n",
       "177           1571702400                 0.623490                 0.781831   \n",
       "178           1571788800                -0.222521                 0.974928   \n",
       "179           1571875200                -0.900969                 0.433884   \n",
       "\n",
       "     application_day_month_cos  application_day_month_sin  \\\n",
       "87                   -0.050649                  -0.998717   \n",
       "88                    0.151428                  -0.988468   \n",
       "89                    0.347305                  -0.937752   \n",
       "90                    0.528964                  -0.848644   \n",
       "91                    0.688967                  -0.724793   \n",
       "..                         ...                        ...   \n",
       "175                  -0.758758                  -0.651372   \n",
       "176                  -0.612106                  -0.790776   \n",
       "177                  -0.440394                  -0.897805   \n",
       "178                  -0.250653                  -0.968077   \n",
       "179                  -0.050649                  -0.998717   \n",
       "\n",
       "     application_month_year_cos  application_month_year_sin  \\\n",
       "87                -1.000000e+00                1.224647e-16   \n",
       "88                -1.000000e+00                1.224647e-16   \n",
       "89                -1.000000e+00                1.224647e-16   \n",
       "90                -1.000000e+00                1.224647e-16   \n",
       "91                -1.000000e+00                1.224647e-16   \n",
       "..                          ...                         ...   \n",
       "175               -1.836970e-16               -1.000000e+00   \n",
       "176               -1.836970e-16               -1.000000e+00   \n",
       "177               -1.836970e-16               -1.000000e+00   \n",
       "178               -1.836970e-16               -1.000000e+00   \n",
       "179               -1.836970e-16               -1.000000e+00   \n",
       "\n",
       "     application_day_year_cos  application_day_year_sin  \n",
       "87                  -0.932289                 -0.361714  \n",
       "88                  -0.925925                 -0.377708  \n",
       "89                  -0.919286                 -0.393590  \n",
       "90                  -0.912375                 -0.409356  \n",
       "91                  -0.905193                 -0.425000  \n",
       "..                        ...                       ...  \n",
       "175                  0.309017                 -0.951057  \n",
       "176                  0.325342                 -0.945596  \n",
       "177                  0.341571                 -0.939856  \n",
       "178                  0.357698                 -0.933837  \n",
       "179                  0.373720                 -0.927542  \n",
       "\n",
       "[93 rows x 21 columns]"
      ]
     },
     "execution_count": 11,
     "metadata": {},
     "output_type": "execute_result"
    }
   ],
   "source": [
    "add_datepart(train_s1, 'application_date', drop = False)\n",
    "add_datepart(train_s2, 'application_date', drop = False)\n",
    "\n",
    "add_cyclic_datepart(train_s1, 'application_date')\n",
    "add_cyclic_datepart(train_s2, 'application_date')\n",
    "\n",
    "add_datepart(test_df1, 'application_date', drop = False)\n",
    "add_datepart(test_df2, 'application_date', drop = False)\n",
    "\n",
    "add_cyclic_datepart(test_df1, 'application_date')\n",
    "add_cyclic_datepart(test_df2, 'application_date')"
   ]
  },
  {
   "cell_type": "code",
   "execution_count": 12,
   "metadata": {},
   "outputs": [
    {
     "data": {
      "text/plain": [
       "Index(['case_count', 'application_Year', 'application_Month',\n",
       "       'application_Week', 'application_Day', 'application_Dayofweek',\n",
       "       'application_Dayofyear', 'application_Is_month_end',\n",
       "       'application_Is_month_start', 'application_Is_quarter_end',\n",
       "       'application_Is_quarter_start', 'application_Is_year_end',\n",
       "       'application_Is_year_start', 'application_Elapsed',\n",
       "       'application_weekday_cos', 'application_weekday_sin',\n",
       "       'application_day_month_cos', 'application_day_month_sin',\n",
       "       'application_month_year_cos', 'application_month_year_sin',\n",
       "       'application_day_year_cos', 'application_day_year_sin'],\n",
       "      dtype='object')"
      ]
     },
     "execution_count": 12,
     "metadata": {},
     "output_type": "execute_result"
    }
   ],
   "source": [
    "train_s1.columns"
   ]
  },
  {
   "cell_type": "code",
   "execution_count": 13,
   "metadata": {},
   "outputs": [],
   "source": [
    "train_s1_x = train_s1.drop(['case_count'],axis = 1)\n",
    "train_s2_x = train_s2.drop(['case_count'],axis = 1)\n",
    "\n",
    "train_s1_y = train_s1['case_count']\n",
    "train_s2_y = train_s2['case_count']"
   ]
  },
  {
   "cell_type": "code",
   "execution_count": 14,
   "metadata": {},
   "outputs": [],
   "source": [
    "cont_names, cat_names = cont_cat_split(df=train_s1_x, max_card=100)"
   ]
  },
  {
   "cell_type": "code",
   "execution_count": 15,
   "metadata": {},
   "outputs": [],
   "source": [
    "tfm = FillMissing(cat_names, cont_names)\n",
    "tfm(train_s1_x)\n",
    "tfm(train_s2_x)"
   ]
  },
  {
   "cell_type": "code",
   "execution_count": 16,
   "metadata": {},
   "outputs": [],
   "source": [
    "# norm = Normalize(cat_list, cont_list)\n",
    "# norm.apply_train(train_s1_x)\n",
    "# norm.apply_train(train_s2_x)\n",
    "# norm.apply_test(test_df1)\n",
    "# norm.apply_test(test_df2)"
   ]
  },
  {
   "cell_type": "code",
   "execution_count": 17,
   "metadata": {},
   "outputs": [],
   "source": [
    "train_s1_x_early, valid_s1_x_early, train_s1_y_early, valid_s1_y_early = train_test_split(train_s1_x,train_s1_y,test_size = 0.2)\n",
    "train_s2_x_early, valid_s2_x_early, train_s2_y_early, valid_s2_y_early = train_test_split(train_s2_x,train_s2_y,test_size = 0.2)"
   ]
  },
  {
   "cell_type": "code",
   "execution_count": 18,
   "metadata": {},
   "outputs": [
    {
     "data": {
      "text/plain": [
       "Index(['application_Year', 'application_Month', 'application_Week',\n",
       "       'application_Day', 'application_Dayofweek', 'application_Dayofyear',\n",
       "       'application_Is_month_end', 'application_Is_month_start',\n",
       "       'application_Is_quarter_end', 'application_Is_quarter_start',\n",
       "       'application_Is_year_end', 'application_Is_year_start',\n",
       "       'application_Elapsed', 'application_weekday_cos',\n",
       "       'application_weekday_sin', 'application_day_month_cos',\n",
       "       'application_day_month_sin', 'application_month_year_cos',\n",
       "       'application_month_year_sin', 'application_day_year_cos',\n",
       "       'application_day_year_sin'],\n",
       "      dtype='object')"
      ]
     },
     "execution_count": 18,
     "metadata": {},
     "output_type": "execute_result"
    }
   ],
   "source": [
    "train_s2_x.columns"
   ]
  },
  {
   "cell_type": "code",
   "execution_count": 19,
   "metadata": {},
   "outputs": [],
   "source": [
    "# procs = [FillMissing, Categorify, Normalize]\n",
    "# path=''\n",
    "# dep_var = 'case_count'\n",
    "# start_indx = len(train_s1) - int(len(train_s1) * 0.2)\n",
    "# end_indx = len(train_s1)\n",
    "\n",
    "# val1 = (TabularList.from_df(train_s1.iloc[start_indx:end_indx].copy(), path=path, cat_names=cat_names, cont_names=cont_names))\n",
    "\n",
    "# #test1 = (TabularList.from_df(test_df1, path=path, cat_names=cat_names, cont_names=cont_names, procs=procs))\n",
    "\n",
    "# data1 = (TabularList.from_df(train_s1, path=path, cat_names=cat_names, cont_names=cont_names, procs=procs)\n",
    "#                              .split_by_idx(list(range(start_indx,end_indx)))                  \n",
    "#                              .label_from_df(cols=dep_var)\n",
    "#                              #.add_test(test1)\n",
    "#                              .databunch())"
   ]
  },
  {
   "cell_type": "code",
   "execution_count": 20,
   "metadata": {},
   "outputs": [],
   "source": [
    "# learn = tabular_learner(data1, layers=[300,200, 100, 50],metrics= [rmse,r2_score])\n",
    "# learn.lr_find(start_lr = 1e-05,end_lr = 1e+05, num_it = 100)\n",
    "# learn.recorder.plot()"
   ]
  },
  {
   "cell_type": "code",
   "execution_count": 21,
   "metadata": {},
   "outputs": [],
   "source": [
    "# learn.fit_one_cycle(25)"
   ]
  },
  {
   "cell_type": "code",
   "execution_count": 22,
   "metadata": {},
   "outputs": [],
   "source": [
    "import numpy as np\n",
    "\n",
    "def mean_absolute_percentage_error(y_true, y_pred): \n",
    "    y_true, y_pred = np.array(y_true), np.array(y_pred)\n",
    "    return np.mean(np.abs((y_true - y_pred) / y_true)) * 100"
   ]
  },
  {
   "cell_type": "code",
   "execution_count": 23,
   "metadata": {},
   "outputs": [
    {
     "data": {
      "text/plain": [
       "RandomForestRegressor(bootstrap=True, criterion='mse', max_depth=6,\n",
       "                      max_features='auto', max_leaf_nodes=None,\n",
       "                      min_impurity_decrease=0.0, min_impurity_split=None,\n",
       "                      min_samples_leaf=1, min_samples_split=2,\n",
       "                      min_weight_fraction_leaf=0.0, n_estimators=100,\n",
       "                      n_jobs=None, oob_score=False, random_state=None,\n",
       "                      verbose=0, warm_start=False)"
      ]
     },
     "execution_count": 23,
     "metadata": {},
     "output_type": "execute_result"
    }
   ],
   "source": [
    "from sklearn.ensemble import RandomForestRegressor\n",
    "reg1 = RandomForestRegressor(n_estimators = 100,max_depth =6)\n",
    "reg1.fit(train_s1_x_early, train_s1_y_early)"
   ]
  },
  {
   "cell_type": "code",
   "execution_count": 24,
   "metadata": {},
   "outputs": [],
   "source": [
    "train_s1_pred_early = reg1.predict(train_s1_x_early)\n",
    "train_s1_pred_valid = reg1.predict(valid_s1_x_early)\n"
   ]
  },
  {
   "cell_type": "code",
   "execution_count": 25,
   "metadata": {},
   "outputs": [
    {
     "name": "stdout",
     "output_type": "stream",
     "text": [
      "Train mape: 271.09702950526037\n",
      "Valid mape: 517.6099000183714\n"
     ]
    }
   ],
   "source": [
    "print('Train mape: {}'.format(mean_absolute_percentage_error(train_s1_y_early,train_s1_pred_early)))\n",
    "print('Valid mape: {}'.format(mean_absolute_percentage_error(valid_s1_y_early,train_s1_pred_valid)))"
   ]
  },
  {
   "cell_type": "code",
   "execution_count": null,
   "metadata": {},
   "outputs": [],
   "source": []
  },
  {
   "cell_type": "code",
   "execution_count": 26,
   "metadata": {},
   "outputs": [
    {
     "data": {
      "text/plain": [
       "RandomForestRegressor(bootstrap=True, criterion='mse', max_depth=6,\n",
       "                      max_features='auto', max_leaf_nodes=None,\n",
       "                      min_impurity_decrease=0.0, min_impurity_split=None,\n",
       "                      min_samples_leaf=1, min_samples_split=2,\n",
       "                      min_weight_fraction_leaf=0.0, n_estimators=100,\n",
       "                      n_jobs=None, oob_score=False, random_state=None,\n",
       "                      verbose=0, warm_start=False)"
      ]
     },
     "execution_count": 26,
     "metadata": {},
     "output_type": "execute_result"
    }
   ],
   "source": [
    "from sklearn.ensemble import RandomForestRegressor\n",
    "reg2 = RandomForestRegressor(n_estimators = 100,max_depth =6)\n",
    "reg2.fit(train_s2_x_early, train_s2_y_early)"
   ]
  },
  {
   "cell_type": "code",
   "execution_count": 27,
   "metadata": {},
   "outputs": [],
   "source": [
    "train_s2_pred_early = reg2.predict(train_s2_x_early)\n",
    "train_s2_pred_valid = reg2.predict(valid_s2_x_early)"
   ]
  },
  {
   "cell_type": "code",
   "execution_count": 28,
   "metadata": {},
   "outputs": [
    {
     "name": "stdout",
     "output_type": "stream",
     "text": [
      "Train mape: 20.261074347084772\n",
      "Valid mape: 25.67615183135158\n"
     ]
    }
   ],
   "source": [
    "print('Train mape: {}'.format(mean_absolute_percentage_error(train_s2_y_early,train_s2_pred_early)))\n",
    "print('Valid mape: {}'.format(mean_absolute_percentage_error(valid_s2_y_early,train_s2_pred_valid)))"
   ]
  },
  {
   "cell_type": "code",
   "execution_count": null,
   "metadata": {},
   "outputs": [],
   "source": []
  }
 ],
 "metadata": {
  "kernelspec": {
   "display_name": "Python 3",
   "language": "python",
   "name": "python3"
  },
  "language_info": {
   "codemirror_mode": {
    "name": "ipython",
    "version": 3
   },
   "file_extension": ".py",
   "mimetype": "text/x-python",
   "name": "python",
   "nbconvert_exporter": "python",
   "pygments_lexer": "ipython3",
   "version": "3.6.9"
  }
 },
 "nbformat": 4,
 "nbformat_minor": 4
}
