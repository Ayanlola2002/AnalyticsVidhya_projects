{
 "cells": [
  {
   "cell_type": "code",
   "execution_count": 24,
   "metadata": {},
   "outputs": [],
   "source": [
    "import pandas as pd\n",
    "import numpy as np\n",
    "import matplotlib.pyplot as plt\n",
    "import seaborn as sns\n",
    "from sklearn.model_selection import train_test_split,ShuffleSplit,GridSearchCV\n",
    "import gc\n",
    "from scipy import sparse\n",
    "import lightgbm as lgb\n",
    "from sklearn.model_selection import KFold, StratifiedKFold\n",
    "import time\n",
    "from datetime import timedelta, date\n",
    "from fbprophet import Prophet\n",
    "from fastai.tabular import *\n",
    "from sklearn.ensemble import RandomForestRegressor, AdaBoostRegressor, GradientBoostingRegressor\n",
    "%matplotlib inline"
   ]
  },
  {
   "cell_type": "code",
   "execution_count": 2,
   "metadata": {},
   "outputs": [],
   "source": [
    "def mean_absolute_percentage_error(y_true, y_pred): \n",
    "    y_true, y_pred = np.array(y_true), np.array(y_pred)\n",
    "    return np.mean(np.abs((y_true - y_pred) / y_true)) * 100"
   ]
  },
  {
   "cell_type": "code",
   "execution_count": 3,
   "metadata": {},
   "outputs": [],
   "source": [
    "train_df = pd.read_csv('train.csv')\n",
    "test_df =  pd.read_csv('test.csv')"
   ]
  },
  {
   "cell_type": "code",
   "execution_count": 4,
   "metadata": {},
   "outputs": [],
   "source": [
    "train = pd.DataFrame(train_df.groupby(['application_date', 'segment'])['case_count'].sum())\n",
    "train.reset_index(inplace=True)"
   ]
  },
  {
   "cell_type": "code",
   "execution_count": 5,
   "metadata": {},
   "outputs": [],
   "source": [
    "train1_dates = train[train['segment']==1]['application_date']\n",
    "train2_dates = train[train['segment']==2]['application_date']"
   ]
  },
  {
   "cell_type": "code",
   "execution_count": 6,
   "metadata": {},
   "outputs": [
    {
     "data": {
      "text/html": [
       "<div>\n",
       "<style scoped>\n",
       "    .dataframe tbody tr th:only-of-type {\n",
       "        vertical-align: middle;\n",
       "    }\n",
       "\n",
       "    .dataframe tbody tr th {\n",
       "        vertical-align: top;\n",
       "    }\n",
       "\n",
       "    .dataframe thead th {\n",
       "        text-align: right;\n",
       "    }\n",
       "</style>\n",
       "<table border=\"1\" class=\"dataframe\">\n",
       "  <thead>\n",
       "    <tr style=\"text-align: right;\">\n",
       "      <th></th>\n",
       "      <th>id</th>\n",
       "      <th>segment</th>\n",
       "      <th>application_Year</th>\n",
       "      <th>application_Month</th>\n",
       "      <th>application_Week</th>\n",
       "      <th>application_Day</th>\n",
       "      <th>application_Dayofweek</th>\n",
       "      <th>application_Dayofyear</th>\n",
       "      <th>application_Is_month_end</th>\n",
       "      <th>application_Is_month_start</th>\n",
       "      <th>...</th>\n",
       "      <th>application_Is_year_start</th>\n",
       "      <th>application_Elapsed</th>\n",
       "      <th>application_weekday_cos</th>\n",
       "      <th>application_weekday_sin</th>\n",
       "      <th>application_day_month_cos</th>\n",
       "      <th>application_day_month_sin</th>\n",
       "      <th>application_month_year_cos</th>\n",
       "      <th>application_month_year_sin</th>\n",
       "      <th>application_day_year_cos</th>\n",
       "      <th>application_day_year_sin</th>\n",
       "    </tr>\n",
       "  </thead>\n",
       "  <tbody>\n",
       "    <tr>\n",
       "      <td>0</td>\n",
       "      <td>1</td>\n",
       "      <td>1</td>\n",
       "      <td>2019</td>\n",
       "      <td>7</td>\n",
       "      <td>27</td>\n",
       "      <td>6</td>\n",
       "      <td>5</td>\n",
       "      <td>187</td>\n",
       "      <td>False</td>\n",
       "      <td>False</td>\n",
       "      <td>...</td>\n",
       "      <td>False</td>\n",
       "      <td>1562371200</td>\n",
       "      <td>-0.222521</td>\n",
       "      <td>-0.974928</td>\n",
       "      <td>0.528964</td>\n",
       "      <td>0.848644</td>\n",
       "      <td>-1.000000e+00</td>\n",
       "      <td>1.224647e-16</td>\n",
       "      <td>-0.998186</td>\n",
       "      <td>-0.060213</td>\n",
       "    </tr>\n",
       "    <tr>\n",
       "      <td>1</td>\n",
       "      <td>2</td>\n",
       "      <td>1</td>\n",
       "      <td>2019</td>\n",
       "      <td>7</td>\n",
       "      <td>27</td>\n",
       "      <td>7</td>\n",
       "      <td>6</td>\n",
       "      <td>188</td>\n",
       "      <td>False</td>\n",
       "      <td>False</td>\n",
       "      <td>...</td>\n",
       "      <td>False</td>\n",
       "      <td>1562457600</td>\n",
       "      <td>0.623490</td>\n",
       "      <td>-0.781831</td>\n",
       "      <td>0.347305</td>\n",
       "      <td>0.937752</td>\n",
       "      <td>-1.000000e+00</td>\n",
       "      <td>1.224647e-16</td>\n",
       "      <td>-0.997001</td>\n",
       "      <td>-0.077386</td>\n",
       "    </tr>\n",
       "    <tr>\n",
       "      <td>2</td>\n",
       "      <td>3</td>\n",
       "      <td>1</td>\n",
       "      <td>2019</td>\n",
       "      <td>7</td>\n",
       "      <td>28</td>\n",
       "      <td>8</td>\n",
       "      <td>0</td>\n",
       "      <td>189</td>\n",
       "      <td>False</td>\n",
       "      <td>False</td>\n",
       "      <td>...</td>\n",
       "      <td>False</td>\n",
       "      <td>1562544000</td>\n",
       "      <td>1.000000</td>\n",
       "      <td>0.000000</td>\n",
       "      <td>0.151428</td>\n",
       "      <td>0.988468</td>\n",
       "      <td>-1.000000e+00</td>\n",
       "      <td>1.224647e-16</td>\n",
       "      <td>-0.995521</td>\n",
       "      <td>-0.094537</td>\n",
       "    </tr>\n",
       "    <tr>\n",
       "      <td>3</td>\n",
       "      <td>4</td>\n",
       "      <td>1</td>\n",
       "      <td>2019</td>\n",
       "      <td>7</td>\n",
       "      <td>28</td>\n",
       "      <td>9</td>\n",
       "      <td>1</td>\n",
       "      <td>190</td>\n",
       "      <td>False</td>\n",
       "      <td>False</td>\n",
       "      <td>...</td>\n",
       "      <td>False</td>\n",
       "      <td>1562630400</td>\n",
       "      <td>0.623490</td>\n",
       "      <td>0.781831</td>\n",
       "      <td>-0.050649</td>\n",
       "      <td>0.998717</td>\n",
       "      <td>-1.000000e+00</td>\n",
       "      <td>1.224647e-16</td>\n",
       "      <td>-0.993747</td>\n",
       "      <td>-0.111659</td>\n",
       "    </tr>\n",
       "    <tr>\n",
       "      <td>4</td>\n",
       "      <td>5</td>\n",
       "      <td>1</td>\n",
       "      <td>2019</td>\n",
       "      <td>7</td>\n",
       "      <td>28</td>\n",
       "      <td>10</td>\n",
       "      <td>2</td>\n",
       "      <td>191</td>\n",
       "      <td>False</td>\n",
       "      <td>False</td>\n",
       "      <td>...</td>\n",
       "      <td>False</td>\n",
       "      <td>1562716800</td>\n",
       "      <td>-0.222521</td>\n",
       "      <td>0.974928</td>\n",
       "      <td>-0.250653</td>\n",
       "      <td>0.968077</td>\n",
       "      <td>-1.000000e+00</td>\n",
       "      <td>1.224647e-16</td>\n",
       "      <td>-0.991677</td>\n",
       "      <td>-0.128748</td>\n",
       "    </tr>\n",
       "    <tr>\n",
       "      <td>...</td>\n",
       "      <td>...</td>\n",
       "      <td>...</td>\n",
       "      <td>...</td>\n",
       "      <td>...</td>\n",
       "      <td>...</td>\n",
       "      <td>...</td>\n",
       "      <td>...</td>\n",
       "      <td>...</td>\n",
       "      <td>...</td>\n",
       "      <td>...</td>\n",
       "      <td>...</td>\n",
       "      <td>...</td>\n",
       "      <td>...</td>\n",
       "      <td>...</td>\n",
       "      <td>...</td>\n",
       "      <td>...</td>\n",
       "      <td>...</td>\n",
       "      <td>...</td>\n",
       "      <td>...</td>\n",
       "      <td>...</td>\n",
       "      <td>...</td>\n",
       "    </tr>\n",
       "    <tr>\n",
       "      <td>175</td>\n",
       "      <td>176</td>\n",
       "      <td>2</td>\n",
       "      <td>2019</td>\n",
       "      <td>10</td>\n",
       "      <td>42</td>\n",
       "      <td>20</td>\n",
       "      <td>6</td>\n",
       "      <td>293</td>\n",
       "      <td>False</td>\n",
       "      <td>False</td>\n",
       "      <td>...</td>\n",
       "      <td>False</td>\n",
       "      <td>1571529600</td>\n",
       "      <td>0.623490</td>\n",
       "      <td>-0.781831</td>\n",
       "      <td>-0.758758</td>\n",
       "      <td>-0.651372</td>\n",
       "      <td>-1.836970e-16</td>\n",
       "      <td>-1.000000e+00</td>\n",
       "      <td>0.309017</td>\n",
       "      <td>-0.951057</td>\n",
       "    </tr>\n",
       "    <tr>\n",
       "      <td>176</td>\n",
       "      <td>177</td>\n",
       "      <td>2</td>\n",
       "      <td>2019</td>\n",
       "      <td>10</td>\n",
       "      <td>43</td>\n",
       "      <td>21</td>\n",
       "      <td>0</td>\n",
       "      <td>294</td>\n",
       "      <td>False</td>\n",
       "      <td>False</td>\n",
       "      <td>...</td>\n",
       "      <td>False</td>\n",
       "      <td>1571616000</td>\n",
       "      <td>1.000000</td>\n",
       "      <td>0.000000</td>\n",
       "      <td>-0.612106</td>\n",
       "      <td>-0.790776</td>\n",
       "      <td>-1.836970e-16</td>\n",
       "      <td>-1.000000e+00</td>\n",
       "      <td>0.325342</td>\n",
       "      <td>-0.945596</td>\n",
       "    </tr>\n",
       "    <tr>\n",
       "      <td>177</td>\n",
       "      <td>178</td>\n",
       "      <td>2</td>\n",
       "      <td>2019</td>\n",
       "      <td>10</td>\n",
       "      <td>43</td>\n",
       "      <td>22</td>\n",
       "      <td>1</td>\n",
       "      <td>295</td>\n",
       "      <td>False</td>\n",
       "      <td>False</td>\n",
       "      <td>...</td>\n",
       "      <td>False</td>\n",
       "      <td>1571702400</td>\n",
       "      <td>0.623490</td>\n",
       "      <td>0.781831</td>\n",
       "      <td>-0.440394</td>\n",
       "      <td>-0.897805</td>\n",
       "      <td>-1.836970e-16</td>\n",
       "      <td>-1.000000e+00</td>\n",
       "      <td>0.341571</td>\n",
       "      <td>-0.939856</td>\n",
       "    </tr>\n",
       "    <tr>\n",
       "      <td>178</td>\n",
       "      <td>179</td>\n",
       "      <td>2</td>\n",
       "      <td>2019</td>\n",
       "      <td>10</td>\n",
       "      <td>43</td>\n",
       "      <td>23</td>\n",
       "      <td>2</td>\n",
       "      <td>296</td>\n",
       "      <td>False</td>\n",
       "      <td>False</td>\n",
       "      <td>...</td>\n",
       "      <td>False</td>\n",
       "      <td>1571788800</td>\n",
       "      <td>-0.222521</td>\n",
       "      <td>0.974928</td>\n",
       "      <td>-0.250653</td>\n",
       "      <td>-0.968077</td>\n",
       "      <td>-1.836970e-16</td>\n",
       "      <td>-1.000000e+00</td>\n",
       "      <td>0.357698</td>\n",
       "      <td>-0.933837</td>\n",
       "    </tr>\n",
       "    <tr>\n",
       "      <td>179</td>\n",
       "      <td>180</td>\n",
       "      <td>2</td>\n",
       "      <td>2019</td>\n",
       "      <td>10</td>\n",
       "      <td>43</td>\n",
       "      <td>24</td>\n",
       "      <td>3</td>\n",
       "      <td>297</td>\n",
       "      <td>False</td>\n",
       "      <td>False</td>\n",
       "      <td>...</td>\n",
       "      <td>False</td>\n",
       "      <td>1571875200</td>\n",
       "      <td>-0.900969</td>\n",
       "      <td>0.433884</td>\n",
       "      <td>-0.050649</td>\n",
       "      <td>-0.998717</td>\n",
       "      <td>-1.836970e-16</td>\n",
       "      <td>-1.000000e+00</td>\n",
       "      <td>0.373720</td>\n",
       "      <td>-0.927542</td>\n",
       "    </tr>\n",
       "  </tbody>\n",
       "</table>\n",
       "<p>180 rows × 23 columns</p>\n",
       "</div>"
      ],
      "text/plain": [
       "      id  segment  application_Year  application_Month  application_Week  \\\n",
       "0      1        1              2019                  7                27   \n",
       "1      2        1              2019                  7                27   \n",
       "2      3        1              2019                  7                28   \n",
       "3      4        1              2019                  7                28   \n",
       "4      5        1              2019                  7                28   \n",
       "..   ...      ...               ...                ...               ...   \n",
       "175  176        2              2019                 10                42   \n",
       "176  177        2              2019                 10                43   \n",
       "177  178        2              2019                 10                43   \n",
       "178  179        2              2019                 10                43   \n",
       "179  180        2              2019                 10                43   \n",
       "\n",
       "     application_Day  application_Dayofweek  application_Dayofyear  \\\n",
       "0                  6                      5                    187   \n",
       "1                  7                      6                    188   \n",
       "2                  8                      0                    189   \n",
       "3                  9                      1                    190   \n",
       "4                 10                      2                    191   \n",
       "..               ...                    ...                    ...   \n",
       "175               20                      6                    293   \n",
       "176               21                      0                    294   \n",
       "177               22                      1                    295   \n",
       "178               23                      2                    296   \n",
       "179               24                      3                    297   \n",
       "\n",
       "     application_Is_month_end  application_Is_month_start  ...  \\\n",
       "0                       False                       False  ...   \n",
       "1                       False                       False  ...   \n",
       "2                       False                       False  ...   \n",
       "3                       False                       False  ...   \n",
       "4                       False                       False  ...   \n",
       "..                        ...                         ...  ...   \n",
       "175                     False                       False  ...   \n",
       "176                     False                       False  ...   \n",
       "177                     False                       False  ...   \n",
       "178                     False                       False  ...   \n",
       "179                     False                       False  ...   \n",
       "\n",
       "     application_Is_year_start  application_Elapsed  application_weekday_cos  \\\n",
       "0                        False           1562371200                -0.222521   \n",
       "1                        False           1562457600                 0.623490   \n",
       "2                        False           1562544000                 1.000000   \n",
       "3                        False           1562630400                 0.623490   \n",
       "4                        False           1562716800                -0.222521   \n",
       "..                         ...                  ...                      ...   \n",
       "175                      False           1571529600                 0.623490   \n",
       "176                      False           1571616000                 1.000000   \n",
       "177                      False           1571702400                 0.623490   \n",
       "178                      False           1571788800                -0.222521   \n",
       "179                      False           1571875200                -0.900969   \n",
       "\n",
       "     application_weekday_sin  application_day_month_cos  \\\n",
       "0                  -0.974928                   0.528964   \n",
       "1                  -0.781831                   0.347305   \n",
       "2                   0.000000                   0.151428   \n",
       "3                   0.781831                  -0.050649   \n",
       "4                   0.974928                  -0.250653   \n",
       "..                       ...                        ...   \n",
       "175                -0.781831                  -0.758758   \n",
       "176                 0.000000                  -0.612106   \n",
       "177                 0.781831                  -0.440394   \n",
       "178                 0.974928                  -0.250653   \n",
       "179                 0.433884                  -0.050649   \n",
       "\n",
       "     application_day_month_sin  application_month_year_cos  \\\n",
       "0                     0.848644               -1.000000e+00   \n",
       "1                     0.937752               -1.000000e+00   \n",
       "2                     0.988468               -1.000000e+00   \n",
       "3                     0.998717               -1.000000e+00   \n",
       "4                     0.968077               -1.000000e+00   \n",
       "..                         ...                         ...   \n",
       "175                  -0.651372               -1.836970e-16   \n",
       "176                  -0.790776               -1.836970e-16   \n",
       "177                  -0.897805               -1.836970e-16   \n",
       "178                  -0.968077               -1.836970e-16   \n",
       "179                  -0.998717               -1.836970e-16   \n",
       "\n",
       "     application_month_year_sin  application_day_year_cos  \\\n",
       "0                  1.224647e-16                 -0.998186   \n",
       "1                  1.224647e-16                 -0.997001   \n",
       "2                  1.224647e-16                 -0.995521   \n",
       "3                  1.224647e-16                 -0.993747   \n",
       "4                  1.224647e-16                 -0.991677   \n",
       "..                          ...                       ...   \n",
       "175               -1.000000e+00                  0.309017   \n",
       "176               -1.000000e+00                  0.325342   \n",
       "177               -1.000000e+00                  0.341571   \n",
       "178               -1.000000e+00                  0.357698   \n",
       "179               -1.000000e+00                  0.373720   \n",
       "\n",
       "     application_day_year_sin  \n",
       "0                   -0.060213  \n",
       "1                   -0.077386  \n",
       "2                   -0.094537  \n",
       "3                   -0.111659  \n",
       "4                   -0.128748  \n",
       "..                        ...  \n",
       "175                 -0.951057  \n",
       "176                 -0.945596  \n",
       "177                 -0.939856  \n",
       "178                 -0.933837  \n",
       "179                 -0.927542  \n",
       "\n",
       "[180 rows x 23 columns]"
      ]
     },
     "execution_count": 6,
     "metadata": {},
     "output_type": "execute_result"
    }
   ],
   "source": [
    "add_datepart(train, 'application_date', drop = False)\n",
    "add_cyclic_datepart(train, 'application_date')\n",
    "\n",
    "add_datepart(test_df, 'application_date', drop = False)\n",
    "add_cyclic_datepart(test_df, 'application_date')"
   ]
  },
  {
   "cell_type": "code",
   "execution_count": 7,
   "metadata": {},
   "outputs": [],
   "source": [
    "from sklearn.preprocessing import LabelEncoder\n",
    "cat_cols = ['application_Year', 'application_Month', 'application_Week',\n",
    "       'application_Day', 'application_Dayofweek', 'application_Dayofyear',\n",
    "       'application_Is_month_end', 'application_Is_month_start',\n",
    "       'application_Is_quarter_end', 'application_Is_quarter_start',\n",
    "       'application_Is_year_end', 'application_Is_year_start']\n",
    "le = LabelEncoder()\n",
    "for col in cat_cols:\n",
    "    train[col] = train[col].astype(str)\n",
    "    test_df[col] = test_df[col].astype(str)\n",
    "    le.fit(train[col])\n",
    "    train[col] = le.transform(train[col])\n",
    "    test_df[col] = le.transform(test_df[col])\n",
    "    "
   ]
  },
  {
   "cell_type": "code",
   "execution_count": 8,
   "metadata": {},
   "outputs": [],
   "source": [
    "train1 = train[train['segment']==1].reset_index(drop=True)\n",
    "train2 = train[train['segment']==2].reset_index(drop=True)\n",
    "\n",
    "test1 = test_df[test_df['segment']==1].reset_index(drop=True)\n",
    "test2 = test_df[test_df['segment']==2].reset_index(drop=True)"
   ]
  },
  {
   "cell_type": "code",
   "execution_count": 9,
   "metadata": {},
   "outputs": [],
   "source": [
    "train1_x = train1.drop(['segment', 'case_count'],axis = 1)\n",
    "train1_y = train1['case_count']\n",
    "\n",
    "train2_x = train2.drop(['segment', 'case_count'],axis = 1)\n",
    "train2_y = train2['case_count']"
   ]
  },
  {
   "cell_type": "code",
   "execution_count": 10,
   "metadata": {},
   "outputs": [],
   "source": [
    "train1_x = train1_x.drop(['application_Elapsed'], axis = 1)\n",
    "test1 = test1.drop(['application_Elapsed'], axis = 1)\n",
    "\n",
    "train2_x = train2_x.drop(['application_Elapsed'], axis = 1)\n",
    "test2 = test2.drop(['application_Elapsed'], axis = 1)"
   ]
  },
  {
   "cell_type": "code",
   "execution_count": 11,
   "metadata": {},
   "outputs": [],
   "source": [
    "train1_x_early = train1_x.iloc[:-87,:]\n",
    "valid1_x_early = train1_x.iloc[-87:,:]\n",
    "\n",
    "train1_y_early = train1_y.iloc[:-87]\n",
    "valid1_y_early = train1_y.iloc[-87:]\n",
    "\n",
    "train2_x_early = train2_x.iloc[:-93,:]\n",
    "valid2_x_early = train2_x.iloc[-93:,:]\n",
    "\n",
    "train2_y_early = train2_y.iloc[:-93]\n",
    "valid2_y_early = train2_y.iloc[-93:]"
   ]
  },
  {
   "cell_type": "code",
   "execution_count": 12,
   "metadata": {},
   "outputs": [
    {
     "data": {
      "text/plain": [
       "LGBMRegressor(boosting_type='gbdt',\n",
       "              categorical_features=['application_Year', 'application_Month',\n",
       "                                    'application_Week', 'application_Day',\n",
       "                                    'application_Dayofweek',\n",
       "                                    'application_Dayofyear',\n",
       "                                    'application_Is_month_end',\n",
       "                                    'application_Is_month_start',\n",
       "                                    'application_Is_quarter_end',\n",
       "                                    'application_Is_quarter_start',\n",
       "                                    'application_Is_year_end',\n",
       "                                    'application_Is_year_start'],\n",
       "              class_weight=None, colsample_bytree=0.9497036,\n",
       "              importance_type='split', learning_rate=0.08, max_depth=8,\n",
       "              min_child_samples=20, min_child_weight=20,\n",
       "              min_split_gain=0.0222415, n_estimators=150, n_jobs=-1,\n",
       "              num_leaves=21, objective=None, random_state=None, reg_alpha=0.04,\n",
       "              reg_lambda=0.073, silent=True, subsample=0.8715623,\n",
       "              subsample_for_bin=200000, subsample_freq=0)"
      ]
     },
     "execution_count": 12,
     "metadata": {},
     "output_type": "execute_result"
    }
   ],
   "source": [
    "from lightgbm import LGBMRegressor\n",
    "\n",
    "gbm1=LGBMRegressor(\n",
    "        n_estimators=150,\n",
    "        learning_rate=0.08,\n",
    "        num_leaves=21,\n",
    "        colsample_bytree=0.9497036,\n",
    "        subsample=0.8715623,\n",
    "        max_depth=8,\n",
    "        reg_alpha=0.04,\n",
    "        reg_lambda=0.073,\n",
    "        min_split_gain=0.0222415,\n",
    "        min_child_weight=20,\n",
    "        categorical_features = cat_cols\n",
    ")\n",
    "\n",
    "gbm1.fit(train1_x_early, train1_y_early)"
   ]
  },
  {
   "cell_type": "code",
   "execution_count": 13,
   "metadata": {},
   "outputs": [
    {
     "data": {
      "text/plain": [
       "LGBMRegressor(boosting_type='gbdt',\n",
       "              categorical_features=['application_Year', 'application_Month',\n",
       "                                    'application_Week', 'application_Day',\n",
       "                                    'application_Dayofweek',\n",
       "                                    'application_Dayofyear',\n",
       "                                    'application_Is_month_end',\n",
       "                                    'application_Is_month_start',\n",
       "                                    'application_Is_quarter_end',\n",
       "                                    'application_Is_quarter_start',\n",
       "                                    'application_Is_year_end',\n",
       "                                    'application_Is_year_start'],\n",
       "              class_weight=None, colsample_bytree=0.9497036,\n",
       "              importance_type='split', learning_rate=0.1, max_depth=8,\n",
       "              min_child_samples=20, min_child_weight=20,\n",
       "              min_split_gain=0.0222415, n_estimators=250, n_jobs=-1,\n",
       "              num_leaves=24, objective=None, random_state=None, reg_alpha=0.4,\n",
       "              reg_lambda=0.073, silent=True, subsample=0.8715623,\n",
       "              subsample_for_bin=200000, subsample_freq=0)"
      ]
     },
     "execution_count": 13,
     "metadata": {},
     "output_type": "execute_result"
    }
   ],
   "source": [
    "from lightgbm import LGBMRegressor\n",
    "\n",
    "gbm2=LGBMRegressor(\n",
    "        n_estimators=250,\n",
    "        learning_rate=0.1,\n",
    "        num_leaves=24,\n",
    "        colsample_bytree=0.9497036,\n",
    "        subsample=0.8715623,\n",
    "        max_depth=8,\n",
    "        reg_alpha=0.4,\n",
    "        reg_lambda=0.073,\n",
    "        min_split_gain=0.0222415,\n",
    "        min_child_weight=20,\n",
    "        categorical_features = cat_cols\n",
    ")\n",
    "\n",
    "gbm2.fit(train2_x_early, train2_y_early)"
   ]
  },
  {
   "cell_type": "code",
   "execution_count": 14,
   "metadata": {},
   "outputs": [],
   "source": [
    "test1 = test1.drop(['segment','id'], axis = 1)\n",
    "test1_pred_gbm = gbm1.predict(test1)\n",
    "\n",
    "test2 = test2.drop(['segment','id'], axis = 1)\n",
    "test2_pred_gbm = gbm2.predict(test2)"
   ]
  },
  {
   "cell_type": "code",
   "execution_count": 15,
   "metadata": {},
   "outputs": [
    {
     "name": "stdout",
     "output_type": "stream",
     "text": [
      "GradientBoostingRegressor(alpha=0.8, criterion='friedman_mse', init=None,\n",
      "                          learning_rate=0.1, loss='ls', max_depth=10,\n",
      "                          max_features=0.8, max_leaf_nodes=None,\n",
      "                          min_impurity_decrease=0.0, min_impurity_split=None,\n",
      "                          min_samples_leaf=3, min_samples_split=3,\n",
      "                          min_weight_fraction_leaf=0.0, n_estimators=100,\n",
      "                          n_iter_no_change=None, presort='auto',\n",
      "                          random_state=365, subsample=1.0, tol=0.0001,\n",
      "                          validation_fraction=0.1, verbose=0, warm_start=False)\n"
     ]
    }
   ],
   "source": [
    "def GradientBooster1(param_grid, n_jobs): \n",
    "    estimator = GradientBoostingRegressor() \n",
    "    cv = ShuffleSplit(n_splits=5, test_size=0.2, random_state = 3344) \n",
    "\n",
    "    classifier = GridSearchCV(estimator=estimator, cv=cv, param_grid=param_grid, n_jobs=n_jobs) \n",
    "\n",
    "    classifier.fit(train1_x, train1_y) \n",
    " \n",
    "    print(classifier.best_estimator_) \n",
    "    return cv, classifier.best_estimator_ \n",
    "\n",
    "param_grid={'n_estimators':[100, 120], \n",
    "            'learning_rate': [0.1],\n",
    "            'max_depth':[9, 10],#4,6], \n",
    "            'min_samples_split': [3,5],\n",
    "            'min_samples_leaf':[1,3],#,5,9,17], \n",
    "            'max_features':[0.8, 1.0],#,0.3]#,0.1]\n",
    "            #'min_impurity_decrease':[1.0],\n",
    "            \n",
    "            'alpha':[0.8,0.9],\n",
    "            'subsample': [1.0],\n",
    "            'criterion':['friedman_mse'], \n",
    "            'random_state': [365]\n",
    "           } \n",
    "\n",
    "n_jobs=4 \n",
    "\n",
    "cv1,best_est1 = GradientBooster1(param_grid, n_jobs)"
   ]
  },
  {
   "cell_type": "code",
   "execution_count": 16,
   "metadata": {},
   "outputs": [
    {
     "name": "stdout",
     "output_type": "stream",
     "text": [
      "GradientBoostingRegressor(alpha=0.8, criterion='friedman_mse', init=None,\n",
      "                          learning_rate=0.1, loss='ls', max_depth=8,\n",
      "                          max_features=0.8, max_leaf_nodes=None,\n",
      "                          min_impurity_decrease=0.0, min_impurity_split=None,\n",
      "                          min_samples_leaf=3, min_samples_split=3,\n",
      "                          min_weight_fraction_leaf=0.0, n_estimators=120,\n",
      "                          n_iter_no_change=None, presort='auto',\n",
      "                          random_state=365, subsample=0.9, tol=0.0001,\n",
      "                          validation_fraction=0.1, verbose=0, warm_start=False)\n"
     ]
    }
   ],
   "source": [
    "def GradientBooster2(param_grid, n_jobs): \n",
    "    estimator = GradientBoostingRegressor() \n",
    "    cv = ShuffleSplit(n_splits=5, test_size=0.2, random_state = 3344) \n",
    "\n",
    "    classifier = GridSearchCV(estimator=estimator, cv=cv, param_grid=param_grid, n_jobs=n_jobs) \n",
    "\n",
    "    classifier.fit(train2_x_early, train2_y_early) \n",
    " \n",
    "    print(classifier.best_estimator_) \n",
    "    return cv, classifier.best_estimator_ \n",
    "\n",
    "param_grid={'n_estimators':[100, 120], \n",
    "            'learning_rate': [0.1],\n",
    "            'max_depth':[8, 9],#4,6], \n",
    "            'min_samples_split': [3,5],\n",
    "            'min_samples_leaf':[1,3],#,5,9,17], \n",
    "            'max_features':[0.8, 1.0],#,0.3]#,0.1]\n",
    "            #'min_impurity_decrease':[1.0],\n",
    "            \n",
    "            'alpha':[0.8,0.9],\n",
    "            'subsample': [0.9, 1.0],\n",
    "            'criterion':['friedman_mse'], \n",
    "            'random_state': [365]\n",
    "           } \n",
    "\n",
    "n_jobs=4 \n",
    "\n",
    "cv2,best_est2 = GradientBooster2(param_grid, n_jobs)"
   ]
  },
  {
   "cell_type": "code",
   "execution_count": 17,
   "metadata": {},
   "outputs": [],
   "source": [
    "test1_pred_gbr = best_est1.predict(test1)\n",
    "test2_pred_gbr = best_est2.predict(test2)"
   ]
  },
  {
   "cell_type": "code",
   "execution_count": 18,
   "metadata": {},
   "outputs": [],
   "source": [
    "train_df = pd.read_csv('train.csv')\n",
    "test_df =  pd.read_csv('test.csv')"
   ]
  },
  {
   "cell_type": "code",
   "execution_count": 19,
   "metadata": {},
   "outputs": [],
   "source": [
    "train = pd.DataFrame(train_df.groupby(['application_date', 'segment'])['case_count'].sum())\n",
    "train.reset_index(inplace=True)"
   ]
  },
  {
   "cell_type": "code",
   "execution_count": 20,
   "metadata": {},
   "outputs": [],
   "source": [
    "train1 = train[train['segment']==1].reset_index(drop=True)\n",
    "train2 = train[train['segment']==2].reset_index(drop=True)\n",
    "\n",
    "test1 = test_df[test_df['segment']==1].reset_index(drop=True)\n",
    "test2 = test_df[test_df['segment']==2].reset_index(drop=True)\n",
    "\n",
    "test2 = test2.drop(['segment','id'], axis = 1)"
   ]
  },
  {
   "cell_type": "code",
   "execution_count": 21,
   "metadata": {},
   "outputs": [],
   "source": [
    "train1 = train1.drop(['segment'],axis = 1)\n",
    "train1.columns = ['ds','y']"
   ]
  },
  {
   "cell_type": "code",
   "execution_count": 22,
   "metadata": {},
   "outputs": [],
   "source": [
    "fest_dussehra = pd.DataFrame({\n",
    "                              'holiday': 'dussehra',\n",
    "                              'ds': pd.to_datetime(['2017-09-30', '2018-10-19', '2019-10-8',])})\n",
    "\n",
    "fest_chaturthia = pd.DataFrame({\n",
    "                              'holiday': 'chaturthi',\n",
    "                              'ds': pd.to_datetime(['2017-08-25', '2018-9-13', '2019-9-2',])})\n",
    "\n",
    "# fest_navrarti = pd.DataFrame({\n",
    "#                               'holiday': 'navrarti',\n",
    "#                               'ds': pd.to_datetime(['2017-9-21', '2017-9-22', '2017-9-23', '2017-9-24', '2017-9-25',\n",
    "#                                                     '2017-9-26', '2017-9-27', '2017-9-28', '2017-9-29', '2017-9-30', \n",
    "#                                                     '2018-10-9', '2018-10-10', '2018-10-11', '2018-10-12', '2018-10-13',\n",
    "#                                                     '2018-10-14', '2018-10-15', '2018-10-16', '2018-10-17', '2018-10-18',\n",
    "#                                                     '2019-9-29', '2019-9-30', '2019-10-1', '2019-10-2', '2019-10-3',\n",
    "#                                                     '2019-10-4', '2019-10-5', '2019-10-6', '2019-10-7', '2019-10-8'])})\n",
    "\n",
    "# fest_raksabandan = pd.DataFrame({\n",
    "#                               'holiday': 'raksabandan',\n",
    "#                               'ds': pd.to_datetime(['2017-08-7', '2018-8-18', '2019-8-19',])})\n",
    "\n",
    "# fest_janmastmi = pd.DataFrame({\n",
    "#                               'holiday': 'janmastmi',\n",
    "#                               'ds': pd.to_datetime(['2017-08-14', '2018-9-2', '2019-8-24',])})\n",
    "\n",
    "holidays = fest_chaturthia\n",
    "# holidays = pd.concat((fest_dussehra, fest_chaturthia))\n",
    "# holidays = pd.concat((holidays, fest_navrarti))\n",
    "# holidays = pd.concat((holidays, fest_raksabandan))\n",
    "# holidays = pd.concat((holidays, fest_janmastmi))"
   ]
  },
  {
   "cell_type": "code",
   "execution_count": 25,
   "metadata": {},
   "outputs": [
    {
     "name": "stderr",
     "output_type": "stream",
     "text": [
      "INFO:fbprophet:Disabling daily seasonality. Run prophet with daily_seasonality=True to override this.\n",
      "C:\\Program_Files\\Anaconda3\\lib\\site-packages\\fbprophet\\hdays.py:256: Warning:\n",
      "\n",
      "We only support Diwali and Holi holidays from 2010 to 2025\n",
      "\n"
     ]
    },
    {
     "data": {
      "text/plain": [
       "<fbprophet.forecaster.Prophet at 0x1b0ef2e86a0>"
      ]
     },
     "execution_count": 25,
     "metadata": {},
     "output_type": "execute_result"
    }
   ],
   "source": [
    "m1 = Prophet(holidays = holidays,seasonality_mode='multiplicative')\n",
    "# m1.add_seasonality(name='monthly', period=30.5, fourier_order=2)\n",
    "# m1.add_seasonality(name='weekly', period=7, fourier_order=3, prior_scale=0.7)\n",
    "# m1.add_regressor('is_friday')\n",
    "m1.add_country_holidays(country_name='IN')\n",
    "m1.fit(train1)"
   ]
  },
  {
   "cell_type": "code",
   "execution_count": 26,
   "metadata": {},
   "outputs": [],
   "source": [
    "future1 = m1.make_future_dataframe(periods=test1.shape[0])\n",
    "# future1['is_friday'] = future1['ds'].apply(is_friday)"
   ]
  },
  {
   "cell_type": "code",
   "execution_count": 27,
   "metadata": {},
   "outputs": [],
   "source": [
    "forecast1 = m1.predict(future1)"
   ]
  },
  {
   "cell_type": "code",
   "execution_count": 44,
   "metadata": {},
   "outputs": [],
   "source": [
    "test1_pred_prophet = forecast1['yhat'][-87:].values"
   ]
  },
  {
   "cell_type": "code",
   "execution_count": 54,
   "metadata": {},
   "outputs": [
    {
     "data": {
      "text/plain": [
       "array([2760.931587, 1689.520807, 3759.36525 , 3224.188379, ..., 4445.487278, 4022.780308, 2992.794189, 5117.255521])"
      ]
     },
     "execution_count": 54,
     "metadata": {},
     "output_type": "execute_result"
    }
   ],
   "source": [
    "test1_pred_prophet"
   ]
  },
  {
   "cell_type": "code",
   "execution_count": 47,
   "metadata": {},
   "outputs": [],
   "source": [
    "test1_pred_ens = 0.3*test1_pred_gbm +0.35*test1_pred_gbr+0.35*test1_pred_prophet\n",
    "test2_pred_ens = 0.5*test2_pred_gbm +0.5*test2_pred_gbr"
   ]
  },
  {
   "cell_type": "code",
   "execution_count": 51,
   "metadata": {},
   "outputs": [],
   "source": [
    "test1_pred_ens_clipped = np.clip(test1_pred_ens,0,4500)"
   ]
  },
  {
   "cell_type": "code",
   "execution_count": 52,
   "metadata": {},
   "outputs": [
    {
     "data": {
      "text/plain": [
       "<matplotlib.legend.Legend at 0x1b0f3732c18>"
      ]
     },
     "execution_count": 52,
     "metadata": {},
     "output_type": "execute_result"
    },
    {
     "data": {
      "image/png": "[encoded data removed]",
      "text/plain": [
       "<Figure size 864x504 with 1 Axes>"
      ]
     },
     "metadata": {
      "needs_background": "light"
     },
     "output_type": "display_data"
    }
   ],
   "source": [
    "plt.figure(figsize = (12,7))\n",
    "plt.plot(test1_pred_gbm, label = 'GBM')\n",
    "plt.plot(test1_pred_gbr, label = 'GBR')\n",
    "plt.plot(test1_pred_prophet, label = 'Prophet')\n",
    "plt.plot(test1_pred_ens_clipped, label = 'Ensemble')\n",
    "plt.legend()"
   ]
  },
  {
   "cell_type": "code",
   "execution_count": 49,
   "metadata": {},
   "outputs": [
    {
     "data": {
      "text/plain": [
       "<matplotlib.legend.Legend at 0x1b0f3247470>"
      ]
     },
     "execution_count": 49,
     "metadata": {},
     "output_type": "execute_result"
    },
    {
     "data": {
      "image/png": "[encoded data removed]",
      "text/plain": [
       "<Figure size 864x504 with 1 Axes>"
      ]
     },
     "metadata": {
      "needs_background": "light"
     },
     "output_type": "display_data"
    }
   ],
   "source": [
    "plt.figure(figsize = (12,7))\n",
    "plt.plot(test2_pred_gbm, label = 'GBM')\n",
    "plt.plot(test2_pred_gbr, label = 'GBR')\n",
    "plt.plot(test2_pred_ens, label = 'Ensemble')\n",
    "plt.legend()"
   ]
  },
  {
   "cell_type": "code",
   "execution_count": 53,
   "metadata": {},
   "outputs": [
    {
     "name": "stderr",
     "output_type": "stream",
     "text": [
      "C:\\Program_Files\\Anaconda3\\lib\\site-packages\\ipykernel_launcher.py:3: SettingWithCopyWarning:\n",
      "\n",
      "\n",
      "A value is trying to be set on a copy of a slice from a DataFrame\n",
      "\n",
      "See the caveats in the documentation: http://pandas.pydata.org/pandas-docs/stable/user_guide/indexing.html#returning-a-view-versus-a-copy\n",
      "\n",
      "C:\\Program_Files\\Anaconda3\\lib\\site-packages\\ipykernel_launcher.py:4: SettingWithCopyWarning:\n",
      "\n",
      "\n",
      "A value is trying to be set on a copy of a slice from a DataFrame\n",
      "\n",
      "See the caveats in the documentation: http://pandas.pydata.org/pandas-docs/stable/user_guide/indexing.html#returning-a-view-versus-a-copy\n",
      "\n"
     ]
    }
   ],
   "source": [
    "sub = pd.read_csv('sample_submission.csv')\n",
    "\n",
    "sub['case_count'][sub['segment']==1] = test1_pred_ens_clipped\n",
    "sub['case_count'][sub['segment']==2] = test2_pred_ens\n",
    "\n",
    "sub.to_csv('ensemble_1_clipped.csv',index = False)"
   ]
  },
  {
   "cell_type": "code",
   "execution_count": null,
   "metadata": {},
   "outputs": [],
   "source": []
  }
 ],
 "metadata": {
  "kernelspec": {
   "display_name": "Python 3",
   "language": "python",
   "name": "python3"
  },
  "language_info": {
   "codemirror_mode": {
    "name": "ipython",
    "version": 3
   },
   "file_extension": ".py",
   "mimetype": "text/x-python",
   "name": "python",
   "nbconvert_exporter": "python",
   "pygments_lexer": "ipython3",
   "version": "3.6.9"
  }
 },
 "nbformat": 4,
 "nbformat_minor": 4
}
